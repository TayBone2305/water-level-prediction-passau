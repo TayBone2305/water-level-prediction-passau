{
 "cells": [
  {
   "cell_type": "code",
   "execution_count": 9,
   "id": "f1cb4b6e",
   "metadata": {
    "ExecuteTime": {
     "end_time": "2023-02-12T13:01:30.467493Z",
     "start_time": "2023-02-12T13:01:30.413491Z"
    },
    "tags": []
   },
   "outputs": [
    {
     "name": "stdout",
     "output_type": "stream",
     "text": [
      "The autoreload extension is already loaded. To reload it, use:\n",
      "  %reload_ext autoreload\n"
     ]
    }
   ],
   "source": [
    "%load_ext autoreload\n",
    "%autoreload 2\n",
    "%config Completer.use_jedi = False  # if autocomplete is not working"
   ]
  },
  {
   "cell_type": "code",
   "execution_count": 10,
   "id": "f9ce8414",
   "metadata": {
    "ExecuteTime": {
     "end_time": "2023-02-12T13:01:32.163359Z",
     "start_time": "2023-02-12T13:01:30.470491Z"
    },
    "tags": []
   },
   "outputs": [],
   "source": [
    "import pandas as pd\n",
    "import numpy as np\n",
    "import matplotlib as mpl\n",
    "import matplotlib.pyplot as plt\n",
    "import os\n",
    "import io\n",
    "from collections import Counter\n",
    "from sklearn.ensemble import GradientBoostingRegressor as model\n",
    "import seaborn as sns\n",
    "from sklearn.model_selection import TimeSeriesSplit"
   ]
  },
  {
   "cell_type": "code",
   "execution_count": 11,
   "id": "75ff675f-7064-44ac-8e27-f9d30c5c5545",
   "metadata": {},
   "outputs": [],
   "source": [
    "levels_df = pd.read_csv('processed.csv').dropna()\n",
    "levels_df['date'] = pd.to_datetime(levels_df['date'])"
   ]
  },
  {
   "cell_type": "code",
   "execution_count": 12,
   "id": "ecb2daec-6198-4176-b228-13ad8e1897db",
   "metadata": {},
   "outputs": [
    {
     "name": "stderr",
     "output_type": "stream",
     "text": [
      "/tmp/ipykernel_43942/195486111.py:1: DtypeWarning: Columns (35) have mixed types. Specify dtype option on import or set low_memory=False.\n",
      "  forecast_df = pd.read_csv('weather_forecast.csv',sep=';')\n"
     ]
    }
   ],
   "source": [
    "forecast_df = pd.read_csv('weather_forecast.csv',sep=';')\n",
    "forecast_df['precipsnow'] = forecast_df['preciptype'].fillna('').str.contains('snow').astype(int)\n",
    "forecast_df['precipsrain'] = forecast_df['preciptype'].fillna('').str.contains('rain').astype(int)\n",
    "forecast_df['datetime'] = pd.to_datetime(forecast_df['datetime'])"
   ]
  },
  {
   "cell_type": "code",
   "execution_count": 13,
   "id": "3c1eb7d2-f931-4523-8a8e-7b0832ceedfc",
   "metadata": {},
   "outputs": [],
   "source": [
    "df = pd.merge(\n",
    "    forecast_df, levels_df, left_on='datetime', right_on='date'\n",
    ").sort_values('date')"
   ]
  },
  {
   "cell_type": "code",
   "execution_count": 14,
   "id": "e5d1670a-e832-45a8-80c6-5ed77a72caa4",
   "metadata": {},
   "outputs": [],
   "source": [
    "offsets = [1, 2, 3, 7]\n",
    "train_data = []\n",
    "test_data_by_offset = {o: [] for o in offsets}\n",
    "dates = []\n",
    "\n",
    "past_days = 3\n",
    "for start_day in range(past_days, len(df) - max(offsets)):\n",
    "    x = df.iloc[start_day - past_days:start_day]\n",
    "    train_data.append(\n",
    "        np.concatenate([\n",
    "            # all levels\n",
    "            x[[c for c in levels_df.columns if c != 'date']].values.flatten(),\n",
    "            # sum of past precip \n",
    "            x[[c for c in levels_df.columns if 'prec-' in c]].sum(axis=0).values.flatten(),\n",
    "            # sum of precip forecast\n",
    "            df.iloc[start_day:(start_day+past_days)][[\n",
    "                'precip', 'precipprob', 'precipcover', 'precipsnow', 'precipsrain'\n",
    "            ]].values.sum(axis=0),\n",
    "        ])\n",
    "    )\n",
    "    dates.append(df.iloc[start_day]['date'])\n",
    "    for o in offsets:\n",
    "        yy = df.iloc[start_day:start_day+o]['level-12'].max()\n",
    "        assert np.isfinite(yy)\n",
    "        test_data_by_offset[o].append(yy)\n",
    "\n",
    "train_data = np.array(train_data)\n",
    "test_data_by_offset = {k: np.array(v).reshape((-1, 1)) for k, v in test_data_by_offset.items()}"
   ]
  },
  {
   "cell_type": "code",
   "execution_count": 15,
   "id": "6ad1f865",
   "metadata": {
    "ExecuteTime": {
     "end_time": "2023-02-12T13:01:37.573328Z",
     "start_time": "2023-02-12T13:01:37.484076Z"
    }
   },
   "outputs": [],
   "source": [
    "train_data = np.array(train_data)\n",
    "test_data_by_offset = {k: np.array(v) for k, v in test_data_by_offset.items()}"
   ]
  },
  {
   "cell_type": "code",
   "execution_count": 16,
   "id": "90e40b46",
   "metadata": {
    "ExecuteTime": {
     "end_time": "2023-02-12T13:01:37.649289Z",
     "start_time": "2023-02-12T13:01:37.575219Z"
    }
   },
   "outputs": [],
   "source": [
    "train_test_cut = -359"
   ]
  },
  {
   "cell_type": "markdown",
   "id": "70c70a99",
   "metadata": {},
   "source": [
    "# TPOT"
   ]
  },
  {
   "cell_type": "code",
   "execution_count": 17,
   "id": "58abb24c",
   "metadata": {
    "ExecuteTime": {
     "end_time": "2023-02-12T13:02:20.169444Z",
     "start_time": "2023-02-12T13:02:20.092443Z"
    }
   },
   "outputs": [],
   "source": [
    "X_train = train_data[:train_test_cut].astype(\"float32\")\n",
    "o = offsets[0]\n",
    "y_train = test_data_by_offset[o][:train_test_cut].astype(\"float32\")\n",
    "\n",
    "X_test = train_data[train_test_cut:].astype(\"float32\")\n",
    "y_test = test_data_by_offset[o][train_test_cut:].astype(\"float32\")"
   ]
  },
  {
   "cell_type": "code",
   "execution_count": 20,
   "id": "75f9f189",
   "metadata": {
    "ExecuteTime": {
     "end_time": "2023-02-12T13:02:21.624694Z",
     "start_time": "2023-02-12T13:02:20.170443Z"
    }
   },
   "outputs": [],
   "source": [
    "from tpot import TPOTRegressor\n",
    "from sklearn.datasets import make_regression\n",
    "from sklearn.model_selection import train_test_split\n",
    "from sklearn.metrics import r2_score"
   ]
  },
  {
   "cell_type": "code",
   "execution_count": 21,
   "id": "8e8e0f54",
   "metadata": {
    "ExecuteTime": {
     "end_time": "2023-02-12T13:02:21.733836Z",
     "start_time": "2023-02-12T13:02:21.625693Z"
    }
   },
   "outputs": [],
   "source": [
    "SEED = 12\n",
    "\n",
    "# X_train, X_test, y_train, y_test = train_test_split(X, y, random_state=SEED)"
   ]
  },
  {
   "cell_type": "code",
   "execution_count": 22,
   "id": "438aaf98",
   "metadata": {
    "ExecuteTime": {
     "end_time": "2023-02-12T13:32:56.327304Z",
     "start_time": "2023-02-12T13:02:21.735776Z"
    },
    "scrolled": true,
    "tags": []
   },
   "outputs": [
    {
     "data": {
      "application/vnd.jupyter.widget-view+json": {
       "model_id": "9668d729ff9e47efa7cb7e6ca6c91fd7",
       "version_major": 2,
       "version_minor": 0
      },
      "text/plain": [
       "Optimization Progress:   0%|          | 0/100 [00:00<?, ?pipeline/s]"
      ]
     },
     "metadata": {},
     "output_type": "display_data"
    },
    {
     "name": "stdout",
     "output_type": "stream",
     "text": [
      "\n",
      "Generation 1 - Current best internal CV score: -345.13303629557294\n",
      "\n",
      "\n",
      "TPOT closed during evaluation in one generation.\n",
      "WARNING: TPOT may not provide a good pipeline if TPOT is stopped/interrupted in a early generation.\n",
      "\n",
      "\n",
      "TPOT closed prematurely. Will use the current best pipeline.\n",
      "\n",
      "Best pipeline: LassoLarsCV(input_matrix, normalize=True)\n",
      "\n",
      "Best pipeline: LassoLarsCV(input_matrix, normalize=True)\n"
     ]
    },
    {
     "data": {
      "text/html": [
       "<style>#sk-container-id-1 {color: black;background-color: white;}#sk-container-id-1 pre{padding: 0;}#sk-container-id-1 div.sk-toggleable {background-color: white;}#sk-container-id-1 label.sk-toggleable__label {cursor: pointer;display: block;width: 100%;margin-bottom: 0;padding: 0.3em;box-sizing: border-box;text-align: center;}#sk-container-id-1 label.sk-toggleable__label-arrow:before {content: \"▸\";float: left;margin-right: 0.25em;color: #696969;}#sk-container-id-1 label.sk-toggleable__label-arrow:hover:before {color: black;}#sk-container-id-1 div.sk-estimator:hover label.sk-toggleable__label-arrow:before {color: black;}#sk-container-id-1 div.sk-toggleable__content {max-height: 0;max-width: 0;overflow: hidden;text-align: left;background-color: #f0f8ff;}#sk-container-id-1 div.sk-toggleable__content pre {margin: 0.2em;color: black;border-radius: 0.25em;background-color: #f0f8ff;}#sk-container-id-1 input.sk-toggleable__control:checked~div.sk-toggleable__content {max-height: 200px;max-width: 100%;overflow: auto;}#sk-container-id-1 input.sk-toggleable__control:checked~label.sk-toggleable__label-arrow:before {content: \"▾\";}#sk-container-id-1 div.sk-estimator input.sk-toggleable__control:checked~label.sk-toggleable__label {background-color: #d4ebff;}#sk-container-id-1 div.sk-label input.sk-toggleable__control:checked~label.sk-toggleable__label {background-color: #d4ebff;}#sk-container-id-1 input.sk-hidden--visually {border: 0;clip: rect(1px 1px 1px 1px);clip: rect(1px, 1px, 1px, 1px);height: 1px;margin: -1px;overflow: hidden;padding: 0;position: absolute;width: 1px;}#sk-container-id-1 div.sk-estimator {font-family: monospace;background-color: #f0f8ff;border: 1px dotted black;border-radius: 0.25em;box-sizing: border-box;margin-bottom: 0.5em;}#sk-container-id-1 div.sk-estimator:hover {background-color: #d4ebff;}#sk-container-id-1 div.sk-parallel-item::after {content: \"\";width: 100%;border-bottom: 1px solid gray;flex-grow: 1;}#sk-container-id-1 div.sk-label:hover label.sk-toggleable__label {background-color: #d4ebff;}#sk-container-id-1 div.sk-serial::before {content: \"\";position: absolute;border-left: 1px solid gray;box-sizing: border-box;top: 0;bottom: 0;left: 50%;z-index: 0;}#sk-container-id-1 div.sk-serial {display: flex;flex-direction: column;align-items: center;background-color: white;padding-right: 0.2em;padding-left: 0.2em;position: relative;}#sk-container-id-1 div.sk-item {position: relative;z-index: 1;}#sk-container-id-1 div.sk-parallel {display: flex;align-items: stretch;justify-content: center;background-color: white;position: relative;}#sk-container-id-1 div.sk-item::before, #sk-container-id-1 div.sk-parallel-item::before {content: \"\";position: absolute;border-left: 1px solid gray;box-sizing: border-box;top: 0;bottom: 0;left: 50%;z-index: -1;}#sk-container-id-1 div.sk-parallel-item {display: flex;flex-direction: column;z-index: 1;position: relative;background-color: white;}#sk-container-id-1 div.sk-parallel-item:first-child::after {align-self: flex-end;width: 50%;}#sk-container-id-1 div.sk-parallel-item:last-child::after {align-self: flex-start;width: 50%;}#sk-container-id-1 div.sk-parallel-item:only-child::after {width: 0;}#sk-container-id-1 div.sk-dashed-wrapped {border: 1px dashed gray;margin: 0 0.4em 0.5em 0.4em;box-sizing: border-box;padding-bottom: 0.4em;background-color: white;}#sk-container-id-1 div.sk-label label {font-family: monospace;font-weight: bold;display: inline-block;line-height: 1.2em;}#sk-container-id-1 div.sk-label-container {text-align: center;}#sk-container-id-1 div.sk-container {/* jupyter's `normalize.less` sets `[hidden] { display: none; }` but bootstrap.min.css set `[hidden] { display: none !important; }` so we also need the `!important` here to be able to override the default hidden behavior on the sphinx rendered scikit-learn.org. See: https://github.com/scikit-learn/scikit-learn/issues/21755 */display: inline-block !important;position: relative;}#sk-container-id-1 div.sk-text-repr-fallback {display: none;}</style><div id=\"sk-container-id-1\" class=\"sk-top-container\"><div class=\"sk-text-repr-fallback\"><pre>TPOTRegressor(cv=TimeSeriesSplit(gap=0, max_train_size=None, n_splits=3, test_size=None),\n",
       "              generations=5, max_eval_time_mins=3, max_time_mins=30, n_jobs=-1,\n",
       "              random_state=12, verbosity=2)</pre><b>In a Jupyter environment, please rerun this cell to show the HTML representation or trust the notebook. <br />On GitHub, the HTML representation is unable to render, please try loading this page with nbviewer.org.</b></div><div class=\"sk-container\" hidden><div class=\"sk-item\"><div class=\"sk-estimator sk-toggleable\"><input class=\"sk-toggleable__control sk-hidden--visually\" id=\"sk-estimator-id-1\" type=\"checkbox\" checked><label for=\"sk-estimator-id-1\" class=\"sk-toggleable__label sk-toggleable__label-arrow\">TPOTRegressor</label><div class=\"sk-toggleable__content\"><pre>TPOTRegressor(cv=TimeSeriesSplit(gap=0, max_train_size=None, n_splits=3, test_size=None),\n",
       "              generations=5, max_eval_time_mins=3, max_time_mins=30, n_jobs=-1,\n",
       "              random_state=12, verbosity=2)</pre></div></div></div></div></div>"
      ],
      "text/plain": [
       "TPOTRegressor(cv=TimeSeriesSplit(gap=0, max_train_size=None, n_splits=3, test_size=None),\n",
       "              generations=5, max_eval_time_mins=3, max_time_mins=30, n_jobs=-1,\n",
       "              random_state=12, verbosity=2)"
      ]
     },
     "execution_count": 22,
     "metadata": {},
     "output_type": "execute_result"
    }
   ],
   "source": [
    "# TPOT setup\n",
    "GENERATIONS = 5\n",
    "POP_SIZE = 100  # 100\n",
    "CV = TimeSeriesSplit(3)\n",
    "\n",
    "tpot = TPOTRegressor(\n",
    "    generations=GENERATIONS,\n",
    "    population_size=POP_SIZE,\n",
    "    random_state=SEED,\n",
    "    # config_dict=\"TPOT cuML\",\n",
    "    n_jobs=-1,\n",
    "    cv=CV,\n",
    "    verbosity=2,\n",
    "    max_time_mins = 30,\n",
    "    max_eval_time_mins=3,\n",
    ")\n",
    "\n",
    "tpot.fit(X_train, y_train.ravel())"
   ]
  },
  {
   "cell_type": "code",
   "execution_count": 23,
   "id": "41b32cff",
   "metadata": {
    "ExecuteTime": {
     "end_time": "2023-02-12T13:32:56.699215Z",
     "start_time": "2023-02-12T13:32:56.336071Z"
    }
   },
   "outputs": [
    {
     "data": {
      "text/plain": [
       "6412.2686"
      ]
     },
     "execution_count": 23,
     "metadata": {},
     "output_type": "execute_result"
    }
   ],
   "source": [
    "preds = tpot.predict(X_test)\n",
    "((y_test-preds)**2).mean()"
   ]
  },
  {
   "cell_type": "code",
   "execution_count": 24,
   "id": "8a2ad4e2",
   "metadata": {
    "ExecuteTime": {
     "end_time": "2023-02-12T13:32:56.807301Z",
     "start_time": "2023-02-12T13:32:56.700216Z"
    }
   },
   "outputs": [
    {
     "data": {
      "text/plain": [
       "57.677917"
      ]
     },
     "execution_count": 24,
     "metadata": {},
     "output_type": "execute_result"
    }
   ],
   "source": [
    "(abs(y_test-preds)).mean()"
   ]
  },
  {
   "cell_type": "code",
   "execution_count": 23,
   "id": "8881e9d8",
   "metadata": {
    "ExecuteTime": {
     "end_time": "2023-02-12T13:32:57.060420Z",
     "start_time": "2023-02-12T13:32:56.809302Z"
    }
   },
   "outputs": [
    {
     "data": {
      "text/plain": [
       "<matplotlib.axes._subplots.AxesSubplot at 0x2226d26ecd0>"
      ]
     },
     "execution_count": 23,
     "metadata": {},
     "output_type": "execute_result"
    },
    {
     "data": {
      "image/png": "[encoded data removed]",
      "text/plain": [
       "<Figure size 432x288 with 1 Axes>"
      ]
     },
     "metadata": {
      "needs_background": "light"
     },
     "output_type": "display_data"
    }
   ],
   "source": [
    "sns.scatterplot(\n",
    "    x=y_test,\n",
    "    y=preds,\n",
    ")"
   ]
  },
  {
   "cell_type": "code",
   "execution_count": 24,
   "id": "ab852933",
   "metadata": {
    "ExecuteTime": {
     "end_time": "2023-02-12T13:32:57.171854Z",
     "start_time": "2023-02-12T13:32:57.061328Z"
    }
   },
   "outputs": [],
   "source": [
    "tpot.export('tpot_exported_pipeline.py')"
   ]
  },
  {
   "cell_type": "code",
   "execution_count": null,
   "id": "77bb831e",
   "metadata": {},
   "outputs": [],
   "source": []
  }
 ],
 "metadata": {
  "kernelspec": {
   "display_name": "Python [conda env:pytorch]",
   "language": "python",
   "name": "conda-env-pytorch-py"
  },
  "language_info": {
   "codemirror_mode": {
    "name": "ipython",
    "version": 3
   },
   "file_extension": ".py",
   "mimetype": "text/x-python",
   "name": "python",
   "nbconvert_exporter": "python",
   "pygments_lexer": "ipython3",
   "version": "3.10.8"
  },
  "toc": {
   "base_numbering": 1,
   "nav_menu": {},
   "number_sections": true,
   "sideBar": true,
   "skip_h1_title": false,
   "title_cell": "Table of Contents",
   "title_sidebar": "Contents",
   "toc_cell": false,
   "toc_position": {},
   "toc_section_display": true,
   "toc_window_display": false
  }
 },
 "nbformat": 4,
 "nbformat_minor": 5
}
