{
 "cells": [
  {
   "cell_type": "code",
   "execution_count": 1,
   "id": "adfe94e2-f65d-4661-a142-23084eee6e56",
   "metadata": {
    "tags": []
   },
   "outputs": [],
   "source": [
    "%load_ext autoreload\n",
    "%autoreload 2\n",
    "%config Completer.use_jedi = False  # if autocomplete is not working"
   ]
  },
  {
   "cell_type": "code",
   "execution_count": 54,
   "id": "94449031-c012-4a84-b56b-3b9ea1e95a5b",
   "metadata": {
    "tags": []
   },
   "outputs": [],
   "source": [
    "import pandas as pd\n",
    "import numpy as np\n",
    "import matplotlib as mpl\n",
    "import matplotlib.pyplot as plt\n",
    "import os\n",
    "import io\n",
    "from collections import Counter"
   ]
  },
  {
   "cell_type": "code",
   "execution_count": 59,
   "id": "92747266-cb64-43b3-9663-896692faeb2c",
   "metadata": {},
   "outputs": [],
   "source": [
    "def read_precipitation_data(prep_dir):\n",
    "    dfs = []\n",
    "    for fname in os.listdir(prep_dir):\n",
    "        if fname.startswith('data_') and fname.endswith('.csv'):\n",
    "            df = pd.read_csv(prep_dir + fname)\n",
    "            df['station'] = fname.split('.')[0].split('_')[1]\n",
    "            dfs.append(df)\n",
    "    df = pd.concat(dfs)\n",
    "    df['date'] = pd.to_datetime(df['Zeitstempel'])\n",
    "    df = df.pivot(index='date', columns='station', values='Wert')\n",
    "    df.columns = [f'prec-{c}' for c in df.columns]\n",
    "    return df"
   ]
  },
  {
   "cell_type": "code",
   "execution_count": 56,
   "id": "e6ad741d-467f-4823-85d1-63c495afcb36",
   "metadata": {},
   "outputs": [],
   "source": [
    "def read_water_level(levls_dir):\n",
    "    dfs = []\n",
    "    for fname in os.listdir(levls_dir):\n",
    "        if fname.startswith('messtation-') and fname.endswith('.csv'):\n",
    "            df = pd.read_csv(levls_dir + fname)\n",
    "            df['date'] = pd.to_datetime(df['Datum'])\n",
    "            df['level'] = df['Wasserstand [cm]'].str.split(',').str[0]\n",
    "            df = df[~df['level'].isna()]\n",
    "            df['level'] = df['level'].astype(int)\n",
    "            q = df.resample('D', on='date')['level'].agg([\n",
    "                # get third largest observation (idea: max could be an outlier)\n",
    "                # there are 96 observations per day\n",
    "                lambda x: sorted(x)[-3] if len(x) > 0 else float('nan')\n",
    "            ]).dropna()\n",
    "            q.columns = ['max3']\n",
    "            q['station'] = fname.split('.')[0].split('-')[1]\n",
    "            dfs.append(q)\n",
    "    df = pd.concat(dfs)\n",
    "    df = df.pivot_table(index='date', columns='station', values='max3')\n",
    "    df.columns = [f'level-{c}' for c in df.columns]\n",
    "    return df"
   ]
  },
  {
   "cell_type": "code",
   "execution_count": null,
   "id": "02f11e0c-be38-408c-b744-af70e7ff1707",
   "metadata": {},
   "outputs": [],
   "source": [
    "def read_data(base_dir):\n",
    "    df_precip = read_precipitation_data(f\"{base_dir}/precipitation/data/\")\n",
    "    df_water = read_water_level(f'{base_dir}/water_level/')\n",
    "    df = pd.merge(df_precip, df_water, left_index=True, right_index=True)\n",
    "    df = df.reset_index()\n",
    "    return df"
   ]
  },
  {
   "cell_type": "code",
   "execution_count": 35,
   "id": "487d8d96-be31-4ce6-85bc-3ba039c1c58d",
   "metadata": {},
   "outputs": [],
   "source": [
    "df.to_csv('processed.csv', index=False)"
   ]
  }
 ],
 "metadata": {
  "kernelspec": {
   "display_name": "Python [conda env:pytorch]",
   "language": "python",
   "name": "conda-env-pytorch-py"
  },
  "language_info": {
   "codemirror_mode": {
    "name": "ipython",
    "version": 3
   },
   "file_extension": ".py",
   "mimetype": "text/x-python",
   "name": "python",
   "nbconvert_exporter": "python",
   "pygments_lexer": "ipython3",
   "version": "3.10.8"
  }
 },
 "nbformat": 4,
 "nbformat_minor": 5
}
